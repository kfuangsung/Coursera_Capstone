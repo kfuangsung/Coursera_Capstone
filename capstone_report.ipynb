{
 "cells": [
  {
   "cell_type": "markdown",
   "metadata": {},
   "source": [
    "# The Battle of Neighborhoods (Week 2)"
   ]
  },
  {
   "cell_type": "markdown",
   "metadata": {},
   "source": [
    "# Deploying data science methodology and machine learning to find the optimal location for a new yoga studio in Toronto."
   ]
  },
  {
   "cell_type": "markdown",
   "metadata": {},
   "source": [
    "## Introduction"
   ]
  },
  {
   "cell_type": "markdown",
   "metadata": {},
   "source": [
    "A passionate yoga instructor has decided to open her yoga studio in Toronto, Canada.  Practicing yoga has physical benefits, such as increased flexibility, increased muscle strength, weight reduction, etc., and mental benefits, such as reduced stress. However, she has absolutely no idea of where precisely in Toronto should she start her studio. "
   ]
  },
  {
   "cell_type": "markdown",
   "metadata": {},
   "source": [
    "## Business problem"
   ]
  },
  {
   "cell_type": "markdown",
   "metadata": {},
   "source": [
    "The problem is trying to answer where exactly in Toronto she should open the yoga studio. As of her knowledge, people don't need too many yoga studios nearby since they choose only one. Additionally, doing so would induce unnecessary competition. Like other business lines, she needs the least amount of competitiveness with a fair number of customers. To achieve the goal, it might not be a good idea to start a new yoga studio in the neighborhood with no yoga studio at all because it is possibly no demand in that location in the first place. The logical process may be clustering yoga studios and find the cluster with the least degree of competitiveness."
   ]
  },
  {
   "cell_type": "markdown",
   "metadata": {},
   "source": [
    "## Data"
   ]
  },
  {
   "cell_type": "markdown",
   "metadata": {},
   "source": [
    "* Retrieve data of neighborhood and borough of Toronto via Wikipedia URL:https://en.wikipedia.org/wiki/List_of_postal_codes_of_Canada:_M\n",
    "* Foursquare API to retrieve the neighborhood's latitude/longitude along with venue category."
   ]
  },
  {
   "cell_type": "markdown",
   "metadata": {},
   "source": [
    "1. Neighborhood\n",
    "2. Neighborhood Latitude\n",
    "3. Neighborhood Longitude\n",
    "4. Venue\n",
    "5. Name of the venue \n",
    "6. Venue Latitude\n",
    "7. Venue Longitude\n",
    "8. Venue Category"
   ]
  },
  {
   "cell_type": "markdown",
   "metadata": {},
   "source": [
    "## Methodology"
   ]
  },
  {
   "cell_type": "markdown",
   "metadata": {},
   "source": [
    "First, load data from Wikipedia into a data frame and load the postal CSV file into another data frame. Merge the two data frames, got data frame shows below. "
   ]
  },
  {
   "cell_type": "markdown",
   "metadata": {},
   "source": [
    "<img src =\"dataframe_CA.PNG\" width=\"700\">"
   ]
  },
  {
   "cell_type": "markdown",
   "metadata": {},
   "source": [
    "Retrieve Toronto's coordinates using geopy library, then use folium library along with latitude/longitude in the data frame to generate a geographical plot of neighborhoods in Toronto."
   ]
  },
  {
   "cell_type": "markdown",
   "metadata": {},
   "source": [
    "**Exhibit 1** Geographical plot of Neighbourhood in Toronto.\n",
    "\n",
    "<img src=\"Screenshot_2021-01-01 Segmenting and Clustering Neighborhoods in Toronto - Jupyter Notebook.PNG\" width=\"800\">"
   ]
  },
  {
   "cell_type": "markdown",
   "metadata": {},
   "source": [
    "Foursquare API is used to retrieve more details such as venue, venue's latitude/longitude, and venue category. "
   ]
  },
  {
   "cell_type": "markdown",
   "metadata": {},
   "source": [
    "<img src=\"dataframe_venues.PNG\" width=\"950\">"
   ]
  },
  {
   "cell_type": "markdown",
   "metadata": {},
   "source": [
    "Transform Venue Category into one-hot encoding."
   ]
  },
  {
   "cell_type": "markdown",
   "metadata": {},
   "source": [
    "<img src='one_hot_category.PNG'>"
   ]
  },
  {
   "cell_type": "markdown",
   "metadata": {},
   "source": [
    "Group data by Neighbour, find the mean, and select yoga category. This data would be input to KMeans clustering."
   ]
  },
  {
   "cell_type": "markdown",
   "metadata": {},
   "source": [
    "<img src='venue_yoga.png' width=\"220\">"
   ]
  },
  {
   "cell_type": "markdown",
   "metadata": {},
   "source": [
    "Implement the elbow method to find the optimal value of k. The result is shown in Exhibit 2, k=4."
   ]
  },
  {
   "cell_type": "markdown",
   "metadata": {},
   "source": [
    "**Exhibit 2** Elbow plot\n",
    "\n",
    "<img src=\"Screenshot_2021-01-01 capstone_coding - Jupyter Notebook(2).PNG\" width=\"800\">"
   ]
  },
  {
   "cell_type": "markdown",
   "metadata": {},
   "source": [
    "Then, fit KMeans clustering with k=4. Some of the results are shown below."
   ]
  },
  {
   "cell_type": "markdown",
   "metadata": {},
   "source": [
    "<img src='venue_category.png' width=\"600\">"
   ]
  },
  {
   "cell_type": "markdown",
   "metadata": {},
   "source": [
    "## Results"
   ]
  },
  {
   "cell_type": "markdown",
   "metadata": {},
   "source": [
    "Print out lists of the neighborhood in each cluster, as shown in Exhibit 3."
   ]
  },
  {
   "cell_type": "markdown",
   "metadata": {},
   "source": [
    "**Exhibit 3** Lists of neighbour in each cluster.\n",
    "\n",
    "<img src=\"Screenshot_2021-01-01 capstone_coding - Jupyter Notebook.PNG\" width=\"450\">"
   ]
  },
  {
   "cell_type": "markdown",
   "metadata": {},
   "source": [
    "Generate a geographical plot that shows the locations of each cluster, as shown in Exhibit 4."
   ]
  },
  {
   "cell_type": "markdown",
   "metadata": {},
   "source": [
    "**Exhibit 4** Geographical plot of clusters.\n",
    "\n",
    "<img src=\"Screenshot_2021-01-01 capstone_coding - Jupyter Notebook(1).PNG\" width=\"800\">"
   ]
  },
  {
   "cell_type": "markdown",
   "metadata": {},
   "source": [
    "## Conclusion"
   ]
  },
  {
   "cell_type": "markdown",
   "metadata": {},
   "source": [
    "As mentioned earlier, it would be too risky to open a yoga studio in the neighborhood with no yoga studio because there might be no demand in the first place; that is why there are none of the yoga studios in that particular area. Everybody has to eat and more likely to try new food,  but not everybody is willing to practice yoga or even think of trying it. The logic of opening a restaurant is not the same as a yoga studio.\n",
    "Our passionate yoga should consider opening a new yoga studio in the same cluster area with the least competitiveness—either cluster 1 in the same location as Lawrence Park and Thorncliffe Park or cluster 3 in the area around Central Bay Street and Stn A PO Boxes.\n"
   ]
  },
  {
   "cell_type": "markdown",
   "metadata": {},
   "source": [
    "## References\n",
    "* List of neighborhoods in Toronto: https://en.wikipedia.org/wiki/List_of_postal_codes_of_Canada:_M\n",
    "* Foursquare API: https://developer.foursquare.com/docs/"
   ]
  }
 ],
 "metadata": {
  "kernelspec": {
   "display_name": "Python 3",
   "language": "python",
   "name": "python3"
  },
  "language_info": {
   "codemirror_mode": {
    "name": "ipython",
    "version": 3
   },
   "file_extension": ".py",
   "mimetype": "text/x-python",
   "name": "python",
   "nbconvert_exporter": "python",
   "pygments_lexer": "ipython3",
   "version": "3.8.5"
  }
 },
 "nbformat": 4,
 "nbformat_minor": 4
}
