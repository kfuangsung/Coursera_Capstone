{
 "cells": [
  {
   "cell_type": "markdown",
   "metadata": {},
   "source": [
    "# Peer-graded Assignment: Segmenting and Clustering Neighborhoods in Toronto"
   ]
  },
  {
   "cell_type": "markdown",
   "metadata": {},
   "source": [
    "# ==================\n",
    "# &nbsp;&nbsp; &nbsp; &nbsp; &nbsp; &nbsp; &nbsp;  PART 1\n",
    "# =================="
   ]
  },
  {
   "cell_type": "code",
   "execution_count": 1,
   "metadata": {},
   "outputs": [],
   "source": [
    "import numpy as np \n",
    "import pandas as pd \n",
    "import requests"
   ]
  },
  {
   "cell_type": "code",
   "execution_count": 2,
   "metadata": {},
   "outputs": [],
   "source": [
    "link = 'https://en.wikipedia.org/wiki/List_of_postal_codes_of_Canada:_M'"
   ]
  },
  {
   "cell_type": "code",
   "execution_count": 3,
   "metadata": {},
   "outputs": [],
   "source": [
    "wiki_page = requests.get(link)"
   ]
  },
  {
   "cell_type": "code",
   "execution_count": 4,
   "metadata": {},
   "outputs": [],
   "source": [
    "df_CA = pd.read_html(wiki_page.content)[0]"
   ]
  },
  {
   "cell_type": "code",
   "execution_count": 5,
   "metadata": {},
   "outputs": [
    {
     "data": {
      "text/html": [
       "<div>\n",
       "<style scoped>\n",
       "    .dataframe tbody tr th:only-of-type {\n",
       "        vertical-align: middle;\n",
       "    }\n",
       "\n",
       "    .dataframe tbody tr th {\n",
       "        vertical-align: top;\n",
       "    }\n",
       "\n",
       "    .dataframe thead th {\n",
       "        text-align: right;\n",
       "    }\n",
       "</style>\n",
       "<table border=\"1\" class=\"dataframe\">\n",
       "  <thead>\n",
       "    <tr style=\"text-align: right;\">\n",
       "      <th></th>\n",
       "      <th>Postal Code</th>\n",
       "      <th>Borough</th>\n",
       "      <th>Neighbourhood</th>\n",
       "    </tr>\n",
       "  </thead>\n",
       "  <tbody>\n",
       "    <tr>\n",
       "      <th>0</th>\n",
       "      <td>M1A</td>\n",
       "      <td>Not assigned</td>\n",
       "      <td>Not assigned</td>\n",
       "    </tr>\n",
       "    <tr>\n",
       "      <th>1</th>\n",
       "      <td>M2A</td>\n",
       "      <td>Not assigned</td>\n",
       "      <td>Not assigned</td>\n",
       "    </tr>\n",
       "    <tr>\n",
       "      <th>2</th>\n",
       "      <td>M3A</td>\n",
       "      <td>North York</td>\n",
       "      <td>Parkwoods</td>\n",
       "    </tr>\n",
       "    <tr>\n",
       "      <th>3</th>\n",
       "      <td>M4A</td>\n",
       "      <td>North York</td>\n",
       "      <td>Victoria Village</td>\n",
       "    </tr>\n",
       "    <tr>\n",
       "      <th>4</th>\n",
       "      <td>M5A</td>\n",
       "      <td>Downtown Toronto</td>\n",
       "      <td>Regent Park, Harbourfront</td>\n",
       "    </tr>\n",
       "  </tbody>\n",
       "</table>\n",
       "</div>"
      ],
      "text/plain": [
       "  Postal Code           Borough              Neighbourhood\n",
       "0         M1A      Not assigned               Not assigned\n",
       "1         M2A      Not assigned               Not assigned\n",
       "2         M3A        North York                  Parkwoods\n",
       "3         M4A        North York           Victoria Village\n",
       "4         M5A  Downtown Toronto  Regent Park, Harbourfront"
      ]
     },
     "execution_count": 5,
     "metadata": {},
     "output_type": "execute_result"
    }
   ],
   "source": [
    "df_CA.head()"
   ]
  },
  {
   "cell_type": "markdown",
   "metadata": {},
   "source": [
    "read data successfully"
   ]
  },
  {
   "cell_type": "markdown",
   "metadata": {},
   "source": [
    "check data shape"
   ]
  },
  {
   "cell_type": "code",
   "execution_count": 6,
   "metadata": {
    "scrolled": true
   },
   "outputs": [
    {
     "data": {
      "text/plain": [
       "(180, 3)"
      ]
     },
     "execution_count": 6,
     "metadata": {},
     "output_type": "execute_result"
    }
   ],
   "source": [
    "df_CA.shape"
   ]
  },
  {
   "cell_type": "markdown",
   "metadata": {},
   "source": [
    "remove 'Not assigned' from 'Borough' column"
   ]
  },
  {
   "cell_type": "code",
   "execution_count": 7,
   "metadata": {},
   "outputs": [],
   "source": [
    "df_CA = df_CA[df_CA['Borough'] != 'Not assigned']"
   ]
  },
  {
   "cell_type": "markdown",
   "metadata": {},
   "source": [
    "check data shape"
   ]
  },
  {
   "cell_type": "code",
   "execution_count": 8,
   "metadata": {
    "scrolled": true
   },
   "outputs": [
    {
     "data": {
      "text/plain": [
       "(103, 3)"
      ]
     },
     "execution_count": 8,
     "metadata": {},
     "output_type": "execute_result"
    }
   ],
   "source": [
    "df_CA.shape"
   ]
  },
  {
   "cell_type": "markdown",
   "metadata": {},
   "source": [
    "remove 'Not assigned' from 'Neighbourhood' column (if there's any left)"
   ]
  },
  {
   "cell_type": "code",
   "execution_count": 9,
   "metadata": {},
   "outputs": [],
   "source": [
    "df_CA = df_CA[df_CA['Neighbourhood'] != 'Not assigned']"
   ]
  },
  {
   "cell_type": "code",
   "execution_count": 10,
   "metadata": {},
   "outputs": [
    {
     "data": {
      "text/plain": [
       "(103, 3)"
      ]
     },
     "execution_count": 10,
     "metadata": {},
     "output_type": "execute_result"
    }
   ],
   "source": [
    "df_CA.shape"
   ]
  },
  {
   "cell_type": "markdown",
   "metadata": {},
   "source": [
    "Finally, data has 130 rows and 3 columns"
   ]
  },
  {
   "cell_type": "code",
   "execution_count": 26,
   "metadata": {},
   "outputs": [
    {
     "data": {
      "text/html": [
       "<div>\n",
       "<style scoped>\n",
       "    .dataframe tbody tr th:only-of-type {\n",
       "        vertical-align: middle;\n",
       "    }\n",
       "\n",
       "    .dataframe tbody tr th {\n",
       "        vertical-align: top;\n",
       "    }\n",
       "\n",
       "    .dataframe thead th {\n",
       "        text-align: right;\n",
       "    }\n",
       "</style>\n",
       "<table border=\"1\" class=\"dataframe\">\n",
       "  <thead>\n",
       "    <tr style=\"text-align: right;\">\n",
       "      <th></th>\n",
       "      <th>Postal Code</th>\n",
       "      <th>Borough</th>\n",
       "      <th>Neighbourhood</th>\n",
       "    </tr>\n",
       "  </thead>\n",
       "  <tbody>\n",
       "    <tr>\n",
       "      <th>2</th>\n",
       "      <td>M3A</td>\n",
       "      <td>North York</td>\n",
       "      <td>Parkwoods</td>\n",
       "    </tr>\n",
       "    <tr>\n",
       "      <th>3</th>\n",
       "      <td>M4A</td>\n",
       "      <td>North York</td>\n",
       "      <td>Victoria Village</td>\n",
       "    </tr>\n",
       "    <tr>\n",
       "      <th>4</th>\n",
       "      <td>M5A</td>\n",
       "      <td>Downtown Toronto</td>\n",
       "      <td>Regent Park, Harbourfront</td>\n",
       "    </tr>\n",
       "    <tr>\n",
       "      <th>5</th>\n",
       "      <td>M6A</td>\n",
       "      <td>North York</td>\n",
       "      <td>Lawrence Manor, Lawrence Heights</td>\n",
       "    </tr>\n",
       "    <tr>\n",
       "      <th>6</th>\n",
       "      <td>M7A</td>\n",
       "      <td>Downtown Toronto</td>\n",
       "      <td>Queen's Park, Ontario Provincial Government</td>\n",
       "    </tr>\n",
       "    <tr>\n",
       "      <th>8</th>\n",
       "      <td>M9A</td>\n",
       "      <td>Etobicoke</td>\n",
       "      <td>Islington Avenue, Humber Valley Village</td>\n",
       "    </tr>\n",
       "    <tr>\n",
       "      <th>9</th>\n",
       "      <td>M1B</td>\n",
       "      <td>Scarborough</td>\n",
       "      <td>Malvern, Rouge</td>\n",
       "    </tr>\n",
       "    <tr>\n",
       "      <th>11</th>\n",
       "      <td>M3B</td>\n",
       "      <td>North York</td>\n",
       "      <td>Don Mills</td>\n",
       "    </tr>\n",
       "    <tr>\n",
       "      <th>12</th>\n",
       "      <td>M4B</td>\n",
       "      <td>East York</td>\n",
       "      <td>Parkview Hill, Woodbine Gardens</td>\n",
       "    </tr>\n",
       "    <tr>\n",
       "      <th>13</th>\n",
       "      <td>M5B</td>\n",
       "      <td>Downtown Toronto</td>\n",
       "      <td>Garden District, Ryerson</td>\n",
       "    </tr>\n",
       "    <tr>\n",
       "      <th>14</th>\n",
       "      <td>M6B</td>\n",
       "      <td>North York</td>\n",
       "      <td>Glencairn</td>\n",
       "    </tr>\n",
       "    <tr>\n",
       "      <th>17</th>\n",
       "      <td>M9B</td>\n",
       "      <td>Etobicoke</td>\n",
       "      <td>West Deane Park, Princess Gardens, Martin Grov...</td>\n",
       "    </tr>\n",
       "    <tr>\n",
       "      <th>18</th>\n",
       "      <td>M1C</td>\n",
       "      <td>Scarborough</td>\n",
       "      <td>Rouge Hill, Port Union, Highland Creek</td>\n",
       "    </tr>\n",
       "    <tr>\n",
       "      <th>20</th>\n",
       "      <td>M3C</td>\n",
       "      <td>North York</td>\n",
       "      <td>Don Mills</td>\n",
       "    </tr>\n",
       "    <tr>\n",
       "      <th>21</th>\n",
       "      <td>M4C</td>\n",
       "      <td>East York</td>\n",
       "      <td>Woodbine Heights</td>\n",
       "    </tr>\n",
       "  </tbody>\n",
       "</table>\n",
       "</div>"
      ],
      "text/plain": [
       "   Postal Code           Borough  \\\n",
       "2          M3A        North York   \n",
       "3          M4A        North York   \n",
       "4          M5A  Downtown Toronto   \n",
       "5          M6A        North York   \n",
       "6          M7A  Downtown Toronto   \n",
       "8          M9A         Etobicoke   \n",
       "9          M1B       Scarborough   \n",
       "11         M3B        North York   \n",
       "12         M4B         East York   \n",
       "13         M5B  Downtown Toronto   \n",
       "14         M6B        North York   \n",
       "17         M9B         Etobicoke   \n",
       "18         M1C       Scarborough   \n",
       "20         M3C        North York   \n",
       "21         M4C         East York   \n",
       "\n",
       "                                        Neighbourhood  \n",
       "2                                           Parkwoods  \n",
       "3                                    Victoria Village  \n",
       "4                           Regent Park, Harbourfront  \n",
       "5                    Lawrence Manor, Lawrence Heights  \n",
       "6         Queen's Park, Ontario Provincial Government  \n",
       "8             Islington Avenue, Humber Valley Village  \n",
       "9                                      Malvern, Rouge  \n",
       "11                                          Don Mills  \n",
       "12                    Parkview Hill, Woodbine Gardens  \n",
       "13                           Garden District, Ryerson  \n",
       "14                                          Glencairn  \n",
       "17  West Deane Park, Princess Gardens, Martin Grov...  \n",
       "18             Rouge Hill, Port Union, Highland Creek  \n",
       "20                                          Don Mills  \n",
       "21                                   Woodbine Heights  "
      ]
     },
     "execution_count": 26,
     "metadata": {},
     "output_type": "execute_result"
    }
   ],
   "source": [
    "df_CA.head(15)"
   ]
  },
  {
   "cell_type": "code",
   "execution_count": 12,
   "metadata": {},
   "outputs": [
    {
     "data": {
      "text/plain": [
       "array(['M3A', 'M4A', 'M5A', 'M6A', 'M7A', 'M9A', 'M1B', 'M3B', 'M4B',\n",
       "       'M5B', 'M6B', 'M9B', 'M1C', 'M3C', 'M4C', 'M5C', 'M6C', 'M9C',\n",
       "       'M1E', 'M4E', 'M5E', 'M6E', 'M1G', 'M4G', 'M5G', 'M6G', 'M1H',\n",
       "       'M2H', 'M3H', 'M4H', 'M5H', 'M6H', 'M1J', 'M2J', 'M3J', 'M4J',\n",
       "       'M5J', 'M6J', 'M1K', 'M2K', 'M3K', 'M4K', 'M5K', 'M6K', 'M1L',\n",
       "       'M2L', 'M3L', 'M4L', 'M5L', 'M6L', 'M9L', 'M1M', 'M2M', 'M3M',\n",
       "       'M4M', 'M5M', 'M6M', 'M9M', 'M1N', 'M2N', 'M3N', 'M4N', 'M5N',\n",
       "       'M6N', 'M9N', 'M1P', 'M2P', 'M4P', 'M5P', 'M6P', 'M9P', 'M1R',\n",
       "       'M2R', 'M4R', 'M5R', 'M6R', 'M7R', 'M9R', 'M1S', 'M4S', 'M5S',\n",
       "       'M6S', 'M1T', 'M4T', 'M5T', 'M1V', 'M4V', 'M5V', 'M8V', 'M9V',\n",
       "       'M1W', 'M4W', 'M5W', 'M8W', 'M9W', 'M1X', 'M4X', 'M5X', 'M8X',\n",
       "       'M4Y', 'M7Y', 'M8Y', 'M8Z'], dtype=object)"
      ]
     },
     "execution_count": 12,
     "metadata": {},
     "output_type": "execute_result"
    }
   ],
   "source": [
    "df_CA['Postal Code'].unique()"
   ]
  },
  {
   "cell_type": "code",
   "execution_count": 13,
   "metadata": {},
   "outputs": [
    {
     "data": {
      "text/plain": [
       "103"
      ]
     },
     "execution_count": 13,
     "metadata": {},
     "output_type": "execute_result"
    }
   ],
   "source": [
    "len(df_CA['Postal Code'].unique())"
   ]
  },
  {
   "cell_type": "markdown",
   "metadata": {},
   "source": [
    "number of unique Postal code = numbers of row in data\n",
    "\n",
    "Hence, every row consisted of unique postal code"
   ]
  },
  {
   "cell_type": "markdown",
   "metadata": {},
   "source": [
    "# ==================\n",
    "# &nbsp;&nbsp; &nbsp; &nbsp; &nbsp; &nbsp; &nbsp;  PART 2\n",
    "# =================="
   ]
  },
  {
   "cell_type": "code",
   "execution_count": 14,
   "metadata": {},
   "outputs": [],
   "source": [
    "import geocoder"
   ]
  },
  {
   "cell_type": "markdown",
   "metadata": {},
   "source": [
    "* **geocoder is not working**"
   ]
  },
  {
   "cell_type": "code",
   "execution_count": 25,
   "metadata": {},
   "outputs": [
    {
     "data": {
      "text/html": [
       "<div>\n",
       "<style scoped>\n",
       "    .dataframe tbody tr th:only-of-type {\n",
       "        vertical-align: middle;\n",
       "    }\n",
       "\n",
       "    .dataframe tbody tr th {\n",
       "        vertical-align: top;\n",
       "    }\n",
       "\n",
       "    .dataframe thead th {\n",
       "        text-align: right;\n",
       "    }\n",
       "</style>\n",
       "<table border=\"1\" class=\"dataframe\">\n",
       "  <thead>\n",
       "    <tr style=\"text-align: right;\">\n",
       "      <th></th>\n",
       "      <th>Postal Code</th>\n",
       "      <th>Latitude</th>\n",
       "      <th>Longitude</th>\n",
       "    </tr>\n",
       "  </thead>\n",
       "  <tbody>\n",
       "    <tr>\n",
       "      <th>0</th>\n",
       "      <td>M1B</td>\n",
       "      <td>43.806686</td>\n",
       "      <td>-79.194353</td>\n",
       "    </tr>\n",
       "    <tr>\n",
       "      <th>1</th>\n",
       "      <td>M1C</td>\n",
       "      <td>43.784535</td>\n",
       "      <td>-79.160497</td>\n",
       "    </tr>\n",
       "    <tr>\n",
       "      <th>2</th>\n",
       "      <td>M1E</td>\n",
       "      <td>43.763573</td>\n",
       "      <td>-79.188711</td>\n",
       "    </tr>\n",
       "    <tr>\n",
       "      <th>3</th>\n",
       "      <td>M1G</td>\n",
       "      <td>43.770992</td>\n",
       "      <td>-79.216917</td>\n",
       "    </tr>\n",
       "    <tr>\n",
       "      <th>4</th>\n",
       "      <td>M1H</td>\n",
       "      <td>43.773136</td>\n",
       "      <td>-79.239476</td>\n",
       "    </tr>\n",
       "  </tbody>\n",
       "</table>\n",
       "</div>"
      ],
      "text/plain": [
       "  Postal Code   Latitude  Longitude\n",
       "0         M1B  43.806686 -79.194353\n",
       "1         M1C  43.784535 -79.160497\n",
       "2         M1E  43.763573 -79.188711\n",
       "3         M1G  43.770992 -79.216917\n",
       "4         M1H  43.773136 -79.239476"
      ]
     },
     "execution_count": 25,
     "metadata": {},
     "output_type": "execute_result"
    }
   ],
   "source": [
    "coords = pd.read_csv('https://cocl.us/Geospatial_data')\n",
    "coords.head()"
   ]
  },
  {
   "cell_type": "code",
   "execution_count": 27,
   "metadata": {},
   "outputs": [
    {
     "data": {
      "text/plain": [
       "(103, 3)"
      ]
     },
     "execution_count": 27,
     "metadata": {},
     "output_type": "execute_result"
    }
   ],
   "source": [
    "coords.shape"
   ]
  },
  {
   "cell_type": "code",
   "execution_count": 32,
   "metadata": {},
   "outputs": [
    {
     "data": {
      "text/html": [
       "<div>\n",
       "<style scoped>\n",
       "    .dataframe tbody tr th:only-of-type {\n",
       "        vertical-align: middle;\n",
       "    }\n",
       "\n",
       "    .dataframe tbody tr th {\n",
       "        vertical-align: top;\n",
       "    }\n",
       "\n",
       "    .dataframe thead th {\n",
       "        text-align: right;\n",
       "    }\n",
       "</style>\n",
       "<table border=\"1\" class=\"dataframe\">\n",
       "  <thead>\n",
       "    <tr style=\"text-align: right;\">\n",
       "      <th></th>\n",
       "      <th>Postal Code</th>\n",
       "      <th>Borough</th>\n",
       "      <th>Neighbourhood</th>\n",
       "      <th>Latitude</th>\n",
       "      <th>Longitude</th>\n",
       "    </tr>\n",
       "  </thead>\n",
       "  <tbody>\n",
       "    <tr>\n",
       "      <th>0</th>\n",
       "      <td>M3A</td>\n",
       "      <td>North York</td>\n",
       "      <td>Parkwoods</td>\n",
       "      <td>43.753259</td>\n",
       "      <td>-79.329656</td>\n",
       "    </tr>\n",
       "    <tr>\n",
       "      <th>1</th>\n",
       "      <td>M4A</td>\n",
       "      <td>North York</td>\n",
       "      <td>Victoria Village</td>\n",
       "      <td>43.725882</td>\n",
       "      <td>-79.315572</td>\n",
       "    </tr>\n",
       "    <tr>\n",
       "      <th>2</th>\n",
       "      <td>M5A</td>\n",
       "      <td>Downtown Toronto</td>\n",
       "      <td>Regent Park, Harbourfront</td>\n",
       "      <td>43.654260</td>\n",
       "      <td>-79.360636</td>\n",
       "    </tr>\n",
       "    <tr>\n",
       "      <th>3</th>\n",
       "      <td>M6A</td>\n",
       "      <td>North York</td>\n",
       "      <td>Lawrence Manor, Lawrence Heights</td>\n",
       "      <td>43.718518</td>\n",
       "      <td>-79.464763</td>\n",
       "    </tr>\n",
       "    <tr>\n",
       "      <th>4</th>\n",
       "      <td>M7A</td>\n",
       "      <td>Downtown Toronto</td>\n",
       "      <td>Queen's Park, Ontario Provincial Government</td>\n",
       "      <td>43.662301</td>\n",
       "      <td>-79.389494</td>\n",
       "    </tr>\n",
       "  </tbody>\n",
       "</table>\n",
       "</div>"
      ],
      "text/plain": [
       "  Postal Code           Borough                                Neighbourhood  \\\n",
       "0         M3A        North York                                    Parkwoods   \n",
       "1         M4A        North York                             Victoria Village   \n",
       "2         M5A  Downtown Toronto                    Regent Park, Harbourfront   \n",
       "3         M6A        North York             Lawrence Manor, Lawrence Heights   \n",
       "4         M7A  Downtown Toronto  Queen's Park, Ontario Provincial Government   \n",
       "\n",
       "    Latitude  Longitude  \n",
       "0  43.753259 -79.329656  \n",
       "1  43.725882 -79.315572  \n",
       "2  43.654260 -79.360636  \n",
       "3  43.718518 -79.464763  \n",
       "4  43.662301 -79.389494  "
      ]
     },
     "execution_count": 32,
     "metadata": {},
     "output_type": "execute_result"
    }
   ],
   "source": [
    "df_CA = df_CA.merge(coords, on='Postal Code')\n",
    "df_CA.head()"
   ]
  },
  {
   "cell_type": "code",
   "execution_count": 33,
   "metadata": {},
   "outputs": [
    {
     "data": {
      "text/plain": [
       "(103, 5)"
      ]
     },
     "execution_count": 33,
     "metadata": {},
     "output_type": "execute_result"
    }
   ],
   "source": [
    "df_CA.shape"
   ]
  },
  {
   "cell_type": "markdown",
   "metadata": {},
   "source": [
    "# ==================\n",
    "# &nbsp;&nbsp; &nbsp; &nbsp; &nbsp; &nbsp; &nbsp;  PART 3\n",
    "# =================="
   ]
  },
  {
   "cell_type": "code",
   "execution_count": 57,
   "metadata": {},
   "outputs": [],
   "source": [
    "from geopy.geocoders import Nominatim \n",
    "import folium\n",
    "import json\n",
    "from pandas.io.json import json_normalize"
   ]
  },
  {
   "cell_type": "code",
   "execution_count": 44,
   "metadata": {},
   "outputs": [
    {
     "name": "stdout",
     "output_type": "stream",
     "text": [
      "The geograpical coordinate of Toronto are 43.6534817, -79.3839347.\n"
     ]
    }
   ],
   "source": [
    "address = 'Toronto, Ontario'\n",
    "\n",
    "geolocator = Nominatim(user_agent=\"ny_explorer\")\n",
    "location = geolocator.geocode(address)\n",
    "latitude = location.latitude\n",
    "longitude = location.longitude\n",
    "print('The geograpical coordinate of Toronto are {}, {}.'.format(latitude, longitude))"
   ]
  },
  {
   "cell_type": "code",
   "execution_count": 48,
   "metadata": {},
   "outputs": [
    {
     "data": {
      "text/html": [
       "<div style=\"width:100%;\"><div style=\"position:relative;width:100%;height:0;padding-bottom:60%;\"><span style=\"color:#565656\">Make this Notebook Trusted to load map: File -> Trust Notebook</span><iframe src=\"about:blank\" style=\"position:absolute;width:100%;height:100%;left:0;top:0;border:none !important;\" data-html=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 onload=\"this.contentDocument.open();this.contentDocument.write(atob(this.getAttribute('data-html')));this.contentDocument.close();\" allowfullscreen webkitallowfullscreen mozallowfullscreen></iframe></div></div>"
      ],
      "text/plain": [
       "<folium.folium.Map at 0x261e6cc0d00>"
      ]
     },
     "execution_count": 48,
     "metadata": {},
     "output_type": "execute_result"
    }
   ],
   "source": [
    "# create map of Toronto using latitude and longitude values\n",
    "map_toronto = folium.Map(location=[latitude, longitude], zoom_start=10)\n",
    "\n",
    "# add markers to map\n",
    "for lat, lng, borough, neighborhood in zip(df_CA['Latitude'], df_CA['Longitude'], df_CA['Borough'], df_CA['Neighbourhood']):\n",
    "    label = '{}, {}'.format(neighborhood, borough)\n",
    "    label = folium.Popup(label, parse_html=True)\n",
    "    folium.CircleMarker(\n",
    "        [lat, lng],\n",
    "        radius=5,\n",
    "        popup=label,\n",
    "        color='blue',\n",
    "        fill=True,\n",
    "        fill_color='#3186cc',\n",
    "        fill_opacity=0.7,\n",
    "        parse_html=False).add_to(map_toronto)  \n",
    "    \n",
    "map_toronto"
   ]
  },
  {
   "cell_type": "code",
   "execution_count": 1,
   "metadata": {},
   "outputs": [
    {
     "name": "stdout",
     "output_type": "stream",
     "text": [
      "Your credentails:\n",
      "CLIENT_ID: \n",
      "CLIENT_SECRET:\n"
     ]
    }
   ],
   "source": [
    "CLIENT_ID = '' # your Foursquare ID\n",
    "CLIENT_SECRET = '' # your Foursquare Secret\n",
    "VERSION = '20180605' # Foursquare API version\n",
    "LIMIT = 100 # A default Foursquare API limit value\n",
    "\n",
    "print('Your credentails:')\n",
    "print('CLIENT_ID: ' + CLIENT_ID)\n",
    "print('CLIENT_SECRET:' + CLIENT_SECRET)"
   ]
  },
  {
   "cell_type": "code",
   "execution_count": 52,
   "metadata": {},
   "outputs": [
    {
     "name": "stdout",
     "output_type": "stream",
     "text": [
      "Latitude and longitude values of Parkwoods are 43.7532586, -79.3296565.\n"
     ]
    }
   ],
   "source": [
    "neighborhood_latitude = df_CA.loc[0, 'Latitude'] # neighborhood latitude value\n",
    "neighborhood_longitude = df_CA.loc[0, 'Longitude'] # neighborhood longitude value\n",
    "\n",
    "neighborhood_name = df_CA.loc[0, 'Neighbourhood'] # neighborhood name\n",
    "\n",
    "print('Latitude and longitude values of {} are {}, {}.'.format(neighborhood_name, \n",
    "                                                               neighborhood_latitude, \n",
    "                                                               neighborhood_longitude))"
   ]
  },
  {
   "cell_type": "code",
   "execution_count": 53,
   "metadata": {},
   "outputs": [
    {
     "data": {
      "text/plain": [
       "'https://api.foursquare.com/v2/venues/explore?&client_id=UKMW0DIOP2OXDLLUILJRG0D5225W3M0ODJVTHTYKITMKQQ2Y&client_secret=KJKQUTUK5F5ZBJRN3MFAUTPXTSTHIAB3OW5MN1ULJE55VPSU&v=20180605&ll=43.7532586,-79.3296565&radius=500&limit=100'"
      ]
     },
     "execution_count": 53,
     "metadata": {},
     "output_type": "execute_result"
    }
   ],
   "source": [
    "LIMIT = 100\n",
    "radius = 500\n",
    "url = 'https://api.foursquare.com/v2/venues/explore?&client_id={}&client_secret={}&v={}&ll={},{}&radius={}&limit={}'.format(\n",
    "    CLIENT_ID, \n",
    "    CLIENT_SECRET, \n",
    "    VERSION, \n",
    "    neighborhood_latitude, \n",
    "    neighborhood_longitude, \n",
    "    radius, \n",
    "    LIMIT)\n",
    "url"
   ]
  },
  {
   "cell_type": "code",
   "execution_count": 54,
   "metadata": {
    "scrolled": true
   },
   "outputs": [
    {
     "data": {
      "text/plain": [
       "{'meta': {'code': 200, 'requestId': '5fec3949732a472e70331138'},\n",
       " 'response': {'warning': {'text': \"There aren't a lot of results near you. Try something more general, reset your filters, or expand the search area.\"},\n",
       "  'headerLocation': 'Parkwoods - Donalda',\n",
       "  'headerFullLocation': 'Parkwoods - Donalda, Toronto',\n",
       "  'headerLocationGranularity': 'neighborhood',\n",
       "  'totalResults': 2,\n",
       "  'suggestedBounds': {'ne': {'lat': 43.757758604500005,\n",
       "    'lng': -79.32343823984928},\n",
       "   'sw': {'lat': 43.7487585955, 'lng': -79.33587476015072}},\n",
       "  'groups': [{'type': 'Recommended Places',\n",
       "    'name': 'recommended',\n",
       "    'items': [{'reasons': {'count': 0,\n",
       "       'items': [{'summary': 'This spot is popular',\n",
       "         'type': 'general',\n",
       "         'reasonName': 'globalInteractionReason'}]},\n",
       "      'venue': {'id': '4e8d9dcdd5fbbbb6b3003c7b',\n",
       "       'name': 'Brookbanks Park',\n",
       "       'location': {'address': 'Toronto',\n",
       "        'lat': 43.751976046055574,\n",
       "        'lng': -79.33214044722958,\n",
       "        'labeledLatLngs': [{'label': 'display',\n",
       "          'lat': 43.751976046055574,\n",
       "          'lng': -79.33214044722958}],\n",
       "        'distance': 245,\n",
       "        'cc': 'CA',\n",
       "        'city': 'Toronto',\n",
       "        'state': 'ON',\n",
       "        'country': 'Canada',\n",
       "        'formattedAddress': ['Toronto', 'Toronto ON', 'Canada']},\n",
       "       'categories': [{'id': '4bf58dd8d48988d163941735',\n",
       "         'name': 'Park',\n",
       "         'pluralName': 'Parks',\n",
       "         'shortName': 'Park',\n",
       "         'icon': {'prefix': 'https://ss3.4sqi.net/img/categories_v2/parks_outdoors/park_',\n",
       "          'suffix': '.png'},\n",
       "         'primary': True}],\n",
       "       'photos': {'count': 0, 'groups': []},\n",
       "       'venuePage': {'id': '600917367'}},\n",
       "      'referralId': 'e-0-4e8d9dcdd5fbbbb6b3003c7b-0'},\n",
       "     {'reasons': {'count': 0,\n",
       "       'items': [{'summary': 'This spot is popular',\n",
       "         'type': 'general',\n",
       "         'reasonName': 'globalInteractionReason'}]},\n",
       "      'venue': {'id': '4cb11e2075ebb60cd1c4caad',\n",
       "       'name': 'Variety Store',\n",
       "       'location': {'address': '29 Valley Woods Road',\n",
       "        'lat': 43.75197441585782,\n",
       "        'lng': -79.33311418516017,\n",
       "        'labeledLatLngs': [{'label': 'display',\n",
       "          'lat': 43.75197441585782,\n",
       "          'lng': -79.33311418516017}],\n",
       "        'distance': 312,\n",
       "        'cc': 'CA',\n",
       "        'city': 'Toronto',\n",
       "        'state': 'ON',\n",
       "        'country': 'Canada',\n",
       "        'formattedAddress': ['29 Valley Woods Road', 'Toronto ON', 'Canada']},\n",
       "       'categories': [{'id': '4bf58dd8d48988d1f9941735',\n",
       "         'name': 'Food & Drink Shop',\n",
       "         'pluralName': 'Food & Drink Shops',\n",
       "         'shortName': 'Food & Drink',\n",
       "         'icon': {'prefix': 'https://ss3.4sqi.net/img/categories_v2/shops/foodanddrink_',\n",
       "          'suffix': '.png'},\n",
       "         'primary': True}],\n",
       "       'photos': {'count': 0, 'groups': []}},\n",
       "      'referralId': 'e-0-4cb11e2075ebb60cd1c4caad-1'}]}]}}"
      ]
     },
     "execution_count": 54,
     "metadata": {},
     "output_type": "execute_result"
    }
   ],
   "source": [
    "results = requests.get(url).json()\n",
    "results"
   ]
  },
  {
   "cell_type": "code",
   "execution_count": 55,
   "metadata": {},
   "outputs": [],
   "source": [
    "# function that extracts the category of the venue\n",
    "def get_category_type(row):\n",
    "    try:\n",
    "        categories_list = row['categories']\n",
    "    except:\n",
    "        categories_list = row['venue.categories']\n",
    "        \n",
    "    if len(categories_list) == 0:\n",
    "        return None\n",
    "    else:\n",
    "        return categories_list[0]['name']"
   ]
  },
  {
   "cell_type": "code",
   "execution_count": 58,
   "metadata": {},
   "outputs": [
    {
     "name": "stderr",
     "output_type": "stream",
     "text": [
      "<ipython-input-58-561c05f0fdd1>:3: FutureWarning: pandas.io.json.json_normalize is deprecated, use pandas.json_normalize instead\n",
      "  nearby_venues = json_normalize(venues) # flatten JSON\n"
     ]
    },
    {
     "data": {
      "text/html": [
       "<div>\n",
       "<style scoped>\n",
       "    .dataframe tbody tr th:only-of-type {\n",
       "        vertical-align: middle;\n",
       "    }\n",
       "\n",
       "    .dataframe tbody tr th {\n",
       "        vertical-align: top;\n",
       "    }\n",
       "\n",
       "    .dataframe thead th {\n",
       "        text-align: right;\n",
       "    }\n",
       "</style>\n",
       "<table border=\"1\" class=\"dataframe\">\n",
       "  <thead>\n",
       "    <tr style=\"text-align: right;\">\n",
       "      <th></th>\n",
       "      <th>name</th>\n",
       "      <th>categories</th>\n",
       "      <th>lat</th>\n",
       "      <th>lng</th>\n",
       "    </tr>\n",
       "  </thead>\n",
       "  <tbody>\n",
       "    <tr>\n",
       "      <th>0</th>\n",
       "      <td>Brookbanks Park</td>\n",
       "      <td>Park</td>\n",
       "      <td>43.751976</td>\n",
       "      <td>-79.332140</td>\n",
       "    </tr>\n",
       "    <tr>\n",
       "      <th>1</th>\n",
       "      <td>Variety Store</td>\n",
       "      <td>Food &amp; Drink Shop</td>\n",
       "      <td>43.751974</td>\n",
       "      <td>-79.333114</td>\n",
       "    </tr>\n",
       "  </tbody>\n",
       "</table>\n",
       "</div>"
      ],
      "text/plain": [
       "              name         categories        lat        lng\n",
       "0  Brookbanks Park               Park  43.751976 -79.332140\n",
       "1    Variety Store  Food & Drink Shop  43.751974 -79.333114"
      ]
     },
     "execution_count": 58,
     "metadata": {},
     "output_type": "execute_result"
    }
   ],
   "source": [
    "venues = results['response']['groups'][0]['items']\n",
    "    \n",
    "nearby_venues = json_normalize(venues) # flatten JSON\n",
    "\n",
    "# filter columns\n",
    "filtered_columns = ['venue.name', 'venue.categories', 'venue.location.lat', 'venue.location.lng']\n",
    "nearby_venues =nearby_venues.loc[:, filtered_columns]\n",
    "\n",
    "# filter the category for each row\n",
    "nearby_venues['venue.categories'] = nearby_venues.apply(get_category_type, axis=1)\n",
    "\n",
    "# clean columns\n",
    "nearby_venues.columns = [col.split(\".\")[-1] for col in nearby_venues.columns]\n",
    "\n",
    "nearby_venues.head()"
   ]
  },
  {
   "cell_type": "code",
   "execution_count": 59,
   "metadata": {},
   "outputs": [],
   "source": [
    "def getNearbyVenues(names, latitudes, longitudes, radius=500):\n",
    "    \n",
    "    venues_list=[]\n",
    "    for name, lat, lng in zip(names, latitudes, longitudes):\n",
    "        print(name)\n",
    "            \n",
    "        # create the API request URL\n",
    "        url = 'https://api.foursquare.com/v2/venues/explore?&client_id={}&client_secret={}&v={}&ll={},{}&radius={}&limit={}'.format(\n",
    "            CLIENT_ID, \n",
    "            CLIENT_SECRET, \n",
    "            VERSION, \n",
    "            lat, \n",
    "            lng, \n",
    "            radius, \n",
    "            LIMIT)\n",
    "            \n",
    "        # make the GET request\n",
    "        results = requests.get(url).json()[\"response\"]['groups'][0]['items']\n",
    "        \n",
    "        # return only relevant information for each nearby venue\n",
    "        venues_list.append([(\n",
    "            name, \n",
    "            lat, \n",
    "            lng, \n",
    "            v['venue']['name'], \n",
    "            v['venue']['location']['lat'], \n",
    "            v['venue']['location']['lng'],  \n",
    "            v['venue']['categories'][0]['name']) for v in results])\n",
    "\n",
    "    nearby_venues = pd.DataFrame([item for venue_list in venues_list for item in venue_list])\n",
    "    nearby_venues.columns = ['Neighbourhood', \n",
    "                  'Neighborhood Latitude', \n",
    "                  'Neighborhood Longitude', \n",
    "                  'Venue', \n",
    "                  'Venue Latitude', \n",
    "                  'Venue Longitude', \n",
    "                  'Venue Category']\n",
    "    \n",
    "    return(nearby_venues)"
   ]
  },
  {
   "cell_type": "code",
   "execution_count": 64,
   "metadata": {
    "scrolled": true
   },
   "outputs": [
    {
     "name": "stdout",
     "output_type": "stream",
     "text": [
      "Parkwoods\n",
      "Victoria Village\n",
      "Regent Park, Harbourfront\n",
      "Lawrence Manor, Lawrence Heights\n",
      "Queen's Park, Ontario Provincial Government\n",
      "Islington Avenue, Humber Valley Village\n",
      "Malvern, Rouge\n",
      "Don Mills\n",
      "Parkview Hill, Woodbine Gardens\n",
      "Garden District, Ryerson\n",
      "Glencairn\n",
      "West Deane Park, Princess Gardens, Martin Grove, Islington, Cloverdale\n",
      "Rouge Hill, Port Union, Highland Creek\n",
      "Don Mills\n",
      "Woodbine Heights\n",
      "St. James Town\n",
      "Humewood-Cedarvale\n",
      "Eringate, Bloordale Gardens, Old Burnhamthorpe, Markland Wood\n",
      "Guildwood, Morningside, West Hill\n",
      "The Beaches\n",
      "Berczy Park\n",
      "Caledonia-Fairbanks\n",
      "Woburn\n",
      "Leaside\n",
      "Central Bay Street\n",
      "Christie\n",
      "Cedarbrae\n",
      "Hillcrest Village\n",
      "Bathurst Manor, Wilson Heights, Downsview North\n",
      "Thorncliffe Park\n",
      "Richmond, Adelaide, King\n",
      "Dufferin, Dovercourt Village\n",
      "Scarborough Village\n",
      "Fairview, Henry Farm, Oriole\n",
      "Northwood Park, York University\n",
      "East Toronto, Broadview North (Old East York)\n",
      "Harbourfront East, Union Station, Toronto Islands\n",
      "Little Portugal, Trinity\n",
      "Kennedy Park, Ionview, East Birchmount Park\n",
      "Bayview Village\n",
      "Downsview\n",
      "The Danforth West, Riverdale\n",
      "Toronto Dominion Centre, Design Exchange\n",
      "Brockton, Parkdale Village, Exhibition Place\n",
      "Golden Mile, Clairlea, Oakridge\n",
      "York Mills, Silver Hills\n",
      "Downsview\n",
      "India Bazaar, The Beaches West\n",
      "Commerce Court, Victoria Hotel\n",
      "North Park, Maple Leaf Park, Upwood Park\n",
      "Humber Summit\n",
      "Cliffside, Cliffcrest, Scarborough Village West\n",
      "Willowdale, Newtonbrook\n",
      "Downsview\n",
      "Studio District\n",
      "Bedford Park, Lawrence Manor East\n",
      "Del Ray, Mount Dennis, Keelsdale and Silverthorn\n",
      "Humberlea, Emery\n",
      "Birch Cliff, Cliffside West\n",
      "Willowdale, Willowdale East\n",
      "Downsview\n",
      "Lawrence Park\n",
      "Roselawn\n",
      "Runnymede, The Junction North\n",
      "Weston\n",
      "Dorset Park, Wexford Heights, Scarborough Town Centre\n",
      "York Mills West\n",
      "Davisville North\n",
      "Forest Hill North & West, Forest Hill Road Park\n",
      "High Park, The Junction South\n",
      "Westmount\n",
      "Wexford, Maryvale\n",
      "Willowdale, Willowdale West\n",
      "North Toronto West, Lawrence Park\n",
      "The Annex, North Midtown, Yorkville\n",
      "Parkdale, Roncesvalles\n",
      "Canada Post Gateway Processing Centre\n",
      "Kingsview Village, St. Phillips, Martin Grove Gardens, Richview Gardens\n",
      "Agincourt\n",
      "Davisville\n",
      "University of Toronto, Harbord\n",
      "Runnymede, Swansea\n",
      "Clarks Corners, Tam O'Shanter, Sullivan\n",
      "Moore Park, Summerhill East\n",
      "Kensington Market, Chinatown, Grange Park\n",
      "Milliken, Agincourt North, Steeles East, L'Amoreaux East\n",
      "Summerhill West, Rathnelly, South Hill, Forest Hill SE, Deer Park\n",
      "CN Tower, King and Spadina, Railway Lands, Harbourfront West, Bathurst Quay, South Niagara, Island airport\n",
      "New Toronto, Mimico South, Humber Bay Shores\n",
      "South Steeles, Silverstone, Humbergate, Jamestown, Mount Olive, Beaumond Heights, Thistletown, Albion Gardens\n",
      "Steeles West, L'Amoreaux West\n",
      "Rosedale\n",
      "Stn A PO Boxes\n",
      "Alderwood, Long Branch\n",
      "Northwest, West Humber - Clairville\n",
      "Upper Rouge\n",
      "St. James Town, Cabbagetown\n",
      "First Canadian Place, Underground city\n",
      "The Kingsway, Montgomery Road, Old Mill North\n",
      "Church and Wellesley\n",
      "Business reply mail Processing Centre, South Central Letter Processing Plant Toronto\n",
      "Old Mill South, King's Mill Park, Sunnylea, Humber Bay, Mimico NE, The Queensway East, Royal York South East, Kingsway Park South East\n",
      "Mimico NW, The Queensway West, South of Bloor, Kingsway Park South West, Royal York South West\n"
     ]
    }
   ],
   "source": [
    "toronto_venues = getNearbyVenues(names=df_CA['Neighbourhood'],\n",
    "                                   latitudes=df_CA['Latitude'],\n",
    "                                   longitudes=df_CA['Longitude']\n",
    "                                  )"
   ]
  },
  {
   "cell_type": "code",
   "execution_count": 63,
   "metadata": {},
   "outputs": [
    {
     "name": "stdout",
     "output_type": "stream",
     "text": [
      "(2128, 7)\n"
     ]
    },
    {
     "data": {
      "text/html": [
       "<div>\n",
       "<style scoped>\n",
       "    .dataframe tbody tr th:only-of-type {\n",
       "        vertical-align: middle;\n",
       "    }\n",
       "\n",
       "    .dataframe tbody tr th {\n",
       "        vertical-align: top;\n",
       "    }\n",
       "\n",
       "    .dataframe thead th {\n",
       "        text-align: right;\n",
       "    }\n",
       "</style>\n",
       "<table border=\"1\" class=\"dataframe\">\n",
       "  <thead>\n",
       "    <tr style=\"text-align: right;\">\n",
       "      <th></th>\n",
       "      <th>Neighbourhood</th>\n",
       "      <th>Neighborhood Latitude</th>\n",
       "      <th>Neighborhood Longitude</th>\n",
       "      <th>Venue</th>\n",
       "      <th>Venue Latitude</th>\n",
       "      <th>Venue Longitude</th>\n",
       "      <th>Venue Category</th>\n",
       "    </tr>\n",
       "  </thead>\n",
       "  <tbody>\n",
       "    <tr>\n",
       "      <th>0</th>\n",
       "      <td>Parkwoods</td>\n",
       "      <td>43.753259</td>\n",
       "      <td>-79.329656</td>\n",
       "      <td>Brookbanks Park</td>\n",
       "      <td>43.751976</td>\n",
       "      <td>-79.332140</td>\n",
       "      <td>Park</td>\n",
       "    </tr>\n",
       "    <tr>\n",
       "      <th>1</th>\n",
       "      <td>Parkwoods</td>\n",
       "      <td>43.753259</td>\n",
       "      <td>-79.329656</td>\n",
       "      <td>Variety Store</td>\n",
       "      <td>43.751974</td>\n",
       "      <td>-79.333114</td>\n",
       "      <td>Food &amp; Drink Shop</td>\n",
       "    </tr>\n",
       "    <tr>\n",
       "      <th>2</th>\n",
       "      <td>Victoria Village</td>\n",
       "      <td>43.725882</td>\n",
       "      <td>-79.315572</td>\n",
       "      <td>Victoria Village Arena</td>\n",
       "      <td>43.723481</td>\n",
       "      <td>-79.315635</td>\n",
       "      <td>Hockey Arena</td>\n",
       "    </tr>\n",
       "    <tr>\n",
       "      <th>3</th>\n",
       "      <td>Victoria Village</td>\n",
       "      <td>43.725882</td>\n",
       "      <td>-79.315572</td>\n",
       "      <td>Portugril</td>\n",
       "      <td>43.725819</td>\n",
       "      <td>-79.312785</td>\n",
       "      <td>Portuguese Restaurant</td>\n",
       "    </tr>\n",
       "    <tr>\n",
       "      <th>4</th>\n",
       "      <td>Victoria Village</td>\n",
       "      <td>43.725882</td>\n",
       "      <td>-79.315572</td>\n",
       "      <td>Tim Hortons</td>\n",
       "      <td>43.725517</td>\n",
       "      <td>-79.313103</td>\n",
       "      <td>Coffee Shop</td>\n",
       "    </tr>\n",
       "  </tbody>\n",
       "</table>\n",
       "</div>"
      ],
      "text/plain": [
       "      Neighbourhood  Neighborhood Latitude  Neighborhood Longitude  \\\n",
       "0         Parkwoods              43.753259              -79.329656   \n",
       "1         Parkwoods              43.753259              -79.329656   \n",
       "2  Victoria Village              43.725882              -79.315572   \n",
       "3  Victoria Village              43.725882              -79.315572   \n",
       "4  Victoria Village              43.725882              -79.315572   \n",
       "\n",
       "                    Venue  Venue Latitude  Venue Longitude  \\\n",
       "0         Brookbanks Park       43.751976       -79.332140   \n",
       "1           Variety Store       43.751974       -79.333114   \n",
       "2  Victoria Village Arena       43.723481       -79.315635   \n",
       "3               Portugril       43.725819       -79.312785   \n",
       "4             Tim Hortons       43.725517       -79.313103   \n",
       "\n",
       "          Venue Category  \n",
       "0                   Park  \n",
       "1      Food & Drink Shop  \n",
       "2           Hockey Arena  \n",
       "3  Portuguese Restaurant  \n",
       "4            Coffee Shop  "
      ]
     },
     "execution_count": 63,
     "metadata": {},
     "output_type": "execute_result"
    }
   ],
   "source": [
    "print(toronto_venues.shape)\n",
    "toronto_venues.head()"
   ]
  }
 ],
 "metadata": {
  "kernelspec": {
   "display_name": "Python 3",
   "language": "python",
   "name": "python3"
  },
  "language_info": {
   "codemirror_mode": {
    "name": "ipython",
    "version": 3
   },
   "file_extension": ".py",
   "mimetype": "text/x-python",
   "name": "python",
   "nbconvert_exporter": "python",
   "pygments_lexer": "ipython3",
   "version": "3.8.5"
  }
 },
 "nbformat": 4,
 "nbformat_minor": 4
}
