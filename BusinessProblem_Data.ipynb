{
 "cells": [
  {
   "cell_type": "markdown",
   "metadata": {},
   "source": [
    "# The Battle of Neighborhoods (Week 1)"
   ]
  },
  {
   "cell_type": "markdown",
   "metadata": {},
   "source": [
    "# Deploying data science methodology and machine learning to find the optimal location for a new yoga studio in Toronto."
   ]
  },
  {
   "cell_type": "markdown",
   "metadata": {},
   "source": [
    "## Introduction"
   ]
  },
  {
   "cell_type": "markdown",
   "metadata": {},
   "source": [
    "A passionate yoga instructor has decided to open her yoga studio in Toronto, Canada.  Practicing yoga has physical benefits, such as increased flexibility, increased muscle strength, weight reduction, etc., and mental benefits, such as reduced stress. However, she has absolutely no idea of where precisely in Toronto should she start her studio. "
   ]
  },
  {
   "cell_type": "markdown",
   "metadata": {},
   "source": [
    "## Business problem"
   ]
  },
  {
   "cell_type": "markdown",
   "metadata": {},
   "source": [
    "The problem is trying to answer where exactly in Toronto she should open the yoga studio. As of her knowledge, people don't need too many yoga studios nearby since they choose only one. Additionally, doing so would induce unnecessary competition. Like other business lines, she needs the least amount of competitiveness with a fair number of customers. To achieve the goal, it might not be a good idea to start a new yoga studio in the neighborhood with no yoga studio at all because it is possibly no demand in that location in the first place. The logical process may be clustering yoga studios and find the cluster with the least degree of competitiveness."
   ]
  },
  {
   "cell_type": "markdown",
   "metadata": {},
   "source": [
    "## Data"
   ]
  },
  {
   "cell_type": "markdown",
   "metadata": {},
   "source": [
    "* Retrieve data of neighborhood and borough of Toronto via Wikipedia URL:https://en.wikipedia.org/wiki/List_of_postal_codes_of_Canada:_M\n",
    "* Foursquare API to retrieve the neighborhood's latitude/longitude along with venue category."
   ]
  },
  {
   "cell_type": "markdown",
   "metadata": {},
   "source": [
    "1. Neighborhood\n",
    "2. Neighborhood Latitude\n",
    "3. Neighborhood Longitude\n",
    "4. Venue\n",
    "5. Name of the venue \n",
    "6. Venue Latitude\n",
    "7. Venue Longitude\n",
    "8. Venue Category"
   ]
  },
  {
   "cell_type": "code",
   "execution_count": null,
   "metadata": {},
   "outputs": [],
   "source": []
  }
 ],
 "metadata": {
  "kernelspec": {
   "display_name": "Python 3",
   "language": "python",
   "name": "python3"
  },
  "language_info": {
   "codemirror_mode": {
    "name": "ipython",
    "version": 3
   },
   "file_extension": ".py",
   "mimetype": "text/x-python",
   "name": "python",
   "nbconvert_exporter": "python",
   "pygments_lexer": "ipython3",
   "version": "3.8.5"
  }
 },
 "nbformat": 4,
 "nbformat_minor": 4
}
